{
  "nbformat": 4,
  "nbformat_minor": 0,
  "metadata": {
    "colab": {
      "name": "Automation-Model",
      "provenance": [],
      "collapsed_sections": []
    },
    "kernelspec": {
      "name": "python3",
      "display_name": "Python 3"
    }
  },
  "cells": [
    {
      "cell_type": "code",
      "metadata": {
        "id": "PG5ZjC_S-I2-",
        "colab_type": "code",
        "colab": {
          "base_uri": "https://localhost:8080/",
          "height": 153
        },
        "outputId": "aabf7522-8be1-4ea1-874e-02309ded6207"
      },
      "source": [
        "import keras\n",
        "mnist=keras.datasets.fashion_mnist \n",
        "(X_train,y_train),(X_test,y_test)=mnist.load_data()"
      ],
      "execution_count": null,
      "outputs": [
        {
          "output_type": "stream",
          "text": [
            "Downloading data from https://storage.googleapis.com/tensorflow/tf-keras-datasets/train-labels-idx1-ubyte.gz\n",
            "32768/29515 [=================================] - 0s 0us/step\n",
            "Downloading data from https://storage.googleapis.com/tensorflow/tf-keras-datasets/train-images-idx3-ubyte.gz\n",
            "26427392/26421880 [==============================] - 0s 0us/step\n",
            "Downloading data from https://storage.googleapis.com/tensorflow/tf-keras-datasets/t10k-labels-idx1-ubyte.gz\n",
            "8192/5148 [===============================================] - 0s 0us/step\n",
            "Downloading data from https://storage.googleapis.com/tensorflow/tf-keras-datasets/t10k-images-idx3-ubyte.gz\n",
            "4423680/4422102 [==============================] - 0s 0us/step\n"
          ],
          "name": "stdout"
        }
      ]
    },
    {
      "cell_type": "code",
      "metadata": {
        "id": "f-temQxQ-NfE",
        "colab_type": "code",
        "colab": {
          "base_uri": "https://localhost:8080/",
          "height": 204
        },
        "outputId": "27ddc493-6f86-4115-c4ff-0c972b9638e2"
      },
      "source": [
        "# Print the number of samples in x_train, x_test, y_train, y_test\n",
        "print(\"Initial shape or dimensions of x_train\", str(X_train.shape))\n",
        "print (\"Number of samples in our training data: \" + str(len(X_train)))\n",
        "print (\"Number of labels in our training data: \" + str(len(y_train)))\n",
        "print (\"Number of samples in our test data: \" + str(len(X_test)))\n",
        "print (\"Number of labels in our test data: \" + str(len(y_test)))\n",
        "print()\n",
        "print (\"Dimensions of x_train:\" + str(X_train[0].shape))\n",
        "print (\"Labels in x_train:\" + str(y_train.shape))\n",
        "print()\n",
        "print (\"Dimensions of x_test:\" + str(X_test[0].shape))\n",
        "print (\"Labels in y_test:\" + str(y_test.shape))"
      ],
      "execution_count": null,
      "outputs": [
        {
          "output_type": "stream",
          "text": [
            "Initial shape or dimensions of x_train (60000, 28, 28)\n",
            "Number of samples in our training data: 60000\n",
            "Number of labels in our training data: 60000\n",
            "Number of samples in our test data: 10000\n",
            "Number of labels in our test data: 10000\n",
            "\n",
            "Dimensions of x_train:(28, 28)\n",
            "Labels in x_train:(60000,)\n",
            "\n",
            "Dimensions of x_test:(28, 28)\n",
            "Labels in y_test:(10000,)\n"
          ],
          "name": "stdout"
        }
      ]
    },
    {
      "cell_type": "code",
      "metadata": {
        "id": "38K3aqEa-OyT",
        "colab_type": "code",
        "colab": {
          "base_uri": "https://localhost:8080/",
          "height": 34
        },
        "outputId": "24ffc0ca-b7e6-45de-d064-79e37de48c69"
      },
      "source": [
        "# Data processing-Normalize our data by changing the range from (0 to 255) to (0 to 1)\n",
        "X_train=X_train/255.0\n",
        "X_test=X_test/255.0\n",
        "class_name=['top','Trouser','Pullover','Dress','Coat','Sandal','Shirt','Sneaker','Bag','Ankle boot']\n",
        "print(\"class_name=\",class_name)"
      ],
      "execution_count": null,
      "outputs": [
        {
          "output_type": "stream",
          "text": [
            "class_name= ['top', 'Trouser', 'Pullover', 'Dress', 'Coat', 'Sandal', 'Shirt', 'Sneaker', 'Bag', 'Ankle boot']\n"
          ],
          "name": "stdout"
        }
      ]
    },
    {
      "cell_type": "code",
      "metadata": {
        "id": "q-CBMJy3-RQ1",
        "colab_type": "code",
        "colab": {}
      },
      "source": [
        "# Import Library for model creation\n",
        "from keras.models import Sequential\n",
        "from keras.layers import Dense,Flatten \n",
        "from keras.optimizers import RMSprop\n",
        "from keras.layers import Conv2D\n",
        "from keras.layers import MaxPool2D"
      ],
      "execution_count": null,
      "outputs": []
    },
    {
      "cell_type": "code",
      "metadata": {
        "id": "SWKme1nq-T0y",
        "colab_type": "code",
        "colab": {}
      },
      "source": [
        "# Train model function\n",
        "def train_model(neurons,model,epochs,test):\n",
        "    model.add(Conv2D(filters=32,kernel_size=(3,3),input_shape=(28,28,1),activation='relu'))\n",
        "    model.add(MaxPool2D())\n",
        "    model.add(Flatten())\n",
        "    model.add(Dense(units=256, activation='relu'))\n",
        "    model.add(Dense(units=neurons,activation='relu'))\n",
        "    model.add(Dense(units=10, activation='softmax'))\n",
        "    model.compile(optimizer=RMSprop(), loss='sparse_categorical_crossentropy', metrics=['accuracy'])\n",
        "    print(model.summary())\n",
        "    return model"
      ],
      "execution_count": null,
      "outputs": []
    },
    {
      "cell_type": "code",
      "metadata": {
        "id": "aXzJmDzC-WPX",
        "colab_type": "code",
        "colab": {}
      },
      "source": [
        "def validate(fit_model,epochs):\n",
        "    text=fit_model.history\n",
        "    accuracy=text['accuracy'][epochs-1]*100\n",
        "    accuracy=float(accuracy)\n",
        "    f=open(\"accuracy.txt\",\"w+\")\n",
        "    f.write(str(accuracy))\n",
        "    f.close()\n",
        "    mod=model.layers\n",
        "    print(\"Accuracy for this Itteration is : \",accuracy,\" %\")\n",
        "    print('Test loss:', test)\n",
        "    print('Test Mod:',mod)\n",
        "    return accuracy"
      ],
      "execution_count": null,
      "outputs": []
    },
    {
      "cell_type": "code",
      "metadata": {
        "id": "2YJXcG0r-arl",
        "colab_type": "code",
        "colab": {
          "base_uri": "https://localhost:8080/",
          "height": 938
        },
        "outputId": "e7ed463d-d016-4ec4-ad15-f7ac348cf538"
      },
      "source": [
        "# Fitting data in model\n",
        "neurons=16\n",
        "accuracy=0\n",
        "epochs=1\n",
        "test=1\n",
        "flag=0\n",
        "X_train=X_train.reshape(60000,28,28,1)\n",
        "X_test=X_test.reshape(10000,28,28,1)\n",
        "while int(accuracy)<90:\n",
        "    if flag==1:\n",
        "        model=keras.backend.clear_session()\n",
        "        neurons=neurons+neurons\n",
        "        epochs=epochs+1\n",
        "        test=test+1\n",
        "    model=Sequential()\n",
        "    model=train_model(neurons,model,epochs,test)\n",
        "    fit_model=model.fit(X_train, y_train, epochs=epochs)\n",
        "    accuracy=validate(fit_model,epochs)\n",
        "    flag=1"
      ],
      "execution_count": null,
      "outputs": [
        {
          "output_type": "stream",
          "text": [
            "Model: \"sequential\"\n",
            "_________________________________________________________________\n",
            "Layer (type)                 Output Shape              Param #   \n",
            "=================================================================\n",
            "conv2d (Conv2D)              (None, 26, 26, 32)        320       \n",
            "_________________________________________________________________\n",
            "max_pooling2d (MaxPooling2D) (None, 13, 13, 32)        0         \n",
            "_________________________________________________________________\n",
            "flatten (Flatten)            (None, 5408)              0         \n",
            "_________________________________________________________________\n",
            "dense (Dense)                (None, 256)               1384704   \n",
            "_________________________________________________________________\n",
            "dense_1 (Dense)              (None, 16)                4112      \n",
            "_________________________________________________________________\n",
            "dense_2 (Dense)              (None, 10)                170       \n",
            "=================================================================\n",
            "Total params: 1,389,306\n",
            "Trainable params: 1,389,306\n",
            "Non-trainable params: 0\n",
            "_________________________________________________________________\n",
            "None\n",
            "1875/1875 [==============================] - 50s 26ms/step - loss: 0.4195 - accuracy: 0.8536\n",
            "Accuracy for this Itteration is :  85.3600025177002  %\n",
            "Test loss: 1\n",
            "Test Mod: [<tensorflow.python.keras.layers.convolutional.Conv2D object at 0x7f7a9f63c6a0>, <tensorflow.python.keras.layers.pooling.MaxPooling2D object at 0x7f7ad3684cf8>, <tensorflow.python.keras.layers.core.Flatten object at 0x7f7ad3695748>, <tensorflow.python.keras.layers.core.Dense object at 0x7f7a9f641d68>, <tensorflow.python.keras.layers.core.Dense object at 0x7f7a98cdc908>, <tensorflow.python.keras.layers.core.Dense object at 0x7f7a98cdcba8>]\n",
            "Model: \"sequential\"\n",
            "_________________________________________________________________\n",
            "Layer (type)                 Output Shape              Param #   \n",
            "=================================================================\n",
            "conv2d (Conv2D)              (None, 26, 26, 32)        320       \n",
            "_________________________________________________________________\n",
            "max_pooling2d (MaxPooling2D) (None, 13, 13, 32)        0         \n",
            "_________________________________________________________________\n",
            "flatten (Flatten)            (None, 5408)              0         \n",
            "_________________________________________________________________\n",
            "dense (Dense)                (None, 256)               1384704   \n",
            "_________________________________________________________________\n",
            "dense_1 (Dense)              (None, 32)                8224      \n",
            "_________________________________________________________________\n",
            "dense_2 (Dense)              (None, 10)                330       \n",
            "=================================================================\n",
            "Total params: 1,393,578\n",
            "Trainable params: 1,393,578\n",
            "Non-trainable params: 0\n",
            "_________________________________________________________________\n",
            "None\n",
            "Epoch 1/2\n",
            "1875/1875 [==============================] - 50s 26ms/step - loss: 0.4129 - accuracy: 0.8529\n",
            "Epoch 2/2\n",
            "1875/1875 [==============================] - 49s 26ms/step - loss: 0.2675 - accuracy: 0.9035\n",
            "Accuracy for this Itteration is :  90.34500122070312  %\n",
            "Test loss: 2\n",
            "Test Mod: [<tensorflow.python.keras.layers.convolutional.Conv2D object at 0x7f7a9f6336a0>, <tensorflow.python.keras.layers.pooling.MaxPooling2D object at 0x7f7a9f6335c0>, <tensorflow.python.keras.layers.core.Flatten object at 0x7f7a9827af28>, <tensorflow.python.keras.layers.core.Dense object at 0x7f7a9650f358>, <tensorflow.python.keras.layers.core.Dense object at 0x7f7a9650ff60>, <tensorflow.python.keras.layers.core.Dense object at 0x7f7a96519278>]\n"
          ],
          "name": "stdout"
        }
      ]
    },
    {
      "cell_type": "code",
      "metadata": {
        "id": "snNansiZ-c-8",
        "colab_type": "code",
        "colab": {
          "base_uri": "https://localhost:8080/",
          "height": 51
        },
        "outputId": "1425f084-d9d4-46a9-b976-23c856293fb0"
      },
      "source": [
        "# Send mail\n",
        "print(\"Sending mail...\")\n",
        "import smtplib\n",
        "s=smtplib.SMTP('smtp.gmail.com',587)\n",
        "s.starttls()\n",
        "s.login(\"chelsimaheswari17@gmail.com\",\"cncumxsnqquavqkd\")\n",
        "message1=\"success\"\n",
        "s.sendmail(\"chelsimaheswari17@gmail.com\",\"chelsimaheswari17@gmail.com\",message1)\n",
        "s.quit()\n",
        "print(\"Mail send..\")"
      ],
      "execution_count": null,
      "outputs": [
        {
          "output_type": "stream",
          "text": [
            "Sending mail...\n",
            "Mail send..\n"
          ],
          "name": "stdout"
        }
      ]
    },
    {
      "cell_type": "code",
      "metadata": {
        "id": "S35X1uZm-g2-",
        "colab_type": "code",
        "colab": {}
      },
      "source": [
        ""
      ],
      "execution_count": null,
      "outputs": []
    }
  ]
}
